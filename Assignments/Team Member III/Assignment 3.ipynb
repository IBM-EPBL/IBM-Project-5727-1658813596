{
  "cells": [
    {
      "cell_type": "markdown",
      "metadata": {
        "id": "gU9S0aKCKq8s"
      },
      "source": [
        "# Assignment 3\n",
        "Abalone Age prediction "
      ],
      "id": "gU9S0aKCKq8s"
    },
    {
      "cell_type": "code",
      "execution_count": 6,
      "id": "9466f47f",
      "metadata": {
        "id": "9466f47f"
      },
      "outputs": [],
      "source": [
        "import numpy as np\n",
        "import pandas as pd\n",
        "import matplotlib.pyplot as plt\n",
        "import seaborn as sns"
      ]
    },
    {
      "cell_type": "code",
      "execution_count": 7,
      "id": "eeb5e079",
      "metadata": {
        "id": "eeb5e079"
      },
      "outputs": [],
      "source": [
        "df=pd.read_csv('abalone.csv')"
      ]
    },
    {
      "cell_type": "markdown",
      "metadata": {
        "id": "FwOY7_KZK4qP"
      },
      "source": [
        "#### VISUALISATIONS"
      ],
      "id": "FwOY7_KZK4qP"
    },
    {
      "cell_type": "markdown",
      "source": [
        "Univariate Analysis"
      ],
      "metadata": {
        "id": "v9APiHF89p_-"
      },
      "id": "v9APiHF89p_-"
    },
    {
      "cell_type": "code",
      "execution_count": 8,
      "id": "7d6be304",
      "metadata": {
        "colab": {
          "base_uri": "https://localhost:8080/",
          "height": 206
        },
        "id": "7d6be304",
        "outputId": "fab438e8-9953-4957-b283-c7ef4f1f51b5"
      },
      "outputs": [
        {
          "output_type": "execute_result",
          "data": {
            "text/plain": [
              "  Sex  Length  Diameter  Height  Whole weight  Shucked weight  Viscera weight  \\\n",
              "0   M   0.455     0.365   0.095        0.5140          0.2245          0.1010   \n",
              "1   M   0.350     0.265   0.090        0.2255          0.0995          0.0485   \n",
              "2   F   0.530     0.420   0.135        0.6770          0.2565          0.1415   \n",
              "3   M   0.440     0.365   0.125        0.5160          0.2155          0.1140   \n",
              "4   I   0.330     0.255   0.080        0.2050          0.0895          0.0395   \n",
              "\n",
              "   Shell weight  Rings  \n",
              "0         0.150     15  \n",
              "1         0.070      7  \n",
              "2         0.210      9  \n",
              "3         0.155     10  \n",
              "4         0.055      7  "
            ],
            "text/html": [
              "\n",
              "  <div id=\"df-98dc3d77-2428-4dec-aad9-274766036372\">\n",
              "    <div class=\"colab-df-container\">\n",
              "      <div>\n",
              "<style scoped>\n",
              "    .dataframe tbody tr th:only-of-type {\n",
              "        vertical-align: middle;\n",
              "    }\n",
              "\n",
              "    .dataframe tbody tr th {\n",
              "        vertical-align: top;\n",
              "    }\n",
              "\n",
              "    .dataframe thead th {\n",
              "        text-align: right;\n",
              "    }\n",
              "</style>\n",
              "<table border=\"1\" class=\"dataframe\">\n",
              "  <thead>\n",
              "    <tr style=\"text-align: right;\">\n",
              "      <th></th>\n",
              "      <th>Sex</th>\n",
              "      <th>Length</th>\n",
              "      <th>Diameter</th>\n",
              "      <th>Height</th>\n",
              "      <th>Whole weight</th>\n",
              "      <th>Shucked weight</th>\n",
              "      <th>Viscera weight</th>\n",
              "      <th>Shell weight</th>\n",
              "      <th>Rings</th>\n",
              "    </tr>\n",
              "  </thead>\n",
              "  <tbody>\n",
              "    <tr>\n",
              "      <th>0</th>\n",
              "      <td>M</td>\n",
              "      <td>0.455</td>\n",
              "      <td>0.365</td>\n",
              "      <td>0.095</td>\n",
              "      <td>0.5140</td>\n",
              "      <td>0.2245</td>\n",
              "      <td>0.1010</td>\n",
              "      <td>0.150</td>\n",
              "      <td>15</td>\n",
              "    </tr>\n",
              "    <tr>\n",
              "      <th>1</th>\n",
              "      <td>M</td>\n",
              "      <td>0.350</td>\n",
              "      <td>0.265</td>\n",
              "      <td>0.090</td>\n",
              "      <td>0.2255</td>\n",
              "      <td>0.0995</td>\n",
              "      <td>0.0485</td>\n",
              "      <td>0.070</td>\n",
              "      <td>7</td>\n",
              "    </tr>\n",
              "    <tr>\n",
              "      <th>2</th>\n",
              "      <td>F</td>\n",
              "      <td>0.530</td>\n",
              "      <td>0.420</td>\n",
              "      <td>0.135</td>\n",
              "      <td>0.6770</td>\n",
              "      <td>0.2565</td>\n",
              "      <td>0.1415</td>\n",
              "      <td>0.210</td>\n",
              "      <td>9</td>\n",
              "    </tr>\n",
              "    <tr>\n",
              "      <th>3</th>\n",
              "      <td>M</td>\n",
              "      <td>0.440</td>\n",
              "      <td>0.365</td>\n",
              "      <td>0.125</td>\n",
              "      <td>0.5160</td>\n",
              "      <td>0.2155</td>\n",
              "      <td>0.1140</td>\n",
              "      <td>0.155</td>\n",
              "      <td>10</td>\n",
              "    </tr>\n",
              "    <tr>\n",
              "      <th>4</th>\n",
              "      <td>I</td>\n",
              "      <td>0.330</td>\n",
              "      <td>0.255</td>\n",
              "      <td>0.080</td>\n",
              "      <td>0.2050</td>\n",
              "      <td>0.0895</td>\n",
              "      <td>0.0395</td>\n",
              "      <td>0.055</td>\n",
              "      <td>7</td>\n",
              "    </tr>\n",
              "  </tbody>\n",
              "</table>\n",
              "</div>\n",
              "      <button class=\"colab-df-convert\" onclick=\"convertToInteractive('df-98dc3d77-2428-4dec-aad9-274766036372')\"\n",
              "              title=\"Convert this dataframe to an interactive table.\"\n",
              "              style=\"display:none;\">\n",
              "        \n",
              "  <svg xmlns=\"http://www.w3.org/2000/svg\" height=\"24px\"viewBox=\"0 0 24 24\"\n",
              "       width=\"24px\">\n",
              "    <path d=\"M0 0h24v24H0V0z\" fill=\"none\"/>\n",
              "    <path d=\"M18.56 5.44l.94 2.06.94-2.06 2.06-.94-2.06-.94-.94-2.06-.94 2.06-2.06.94zm-11 1L8.5 8.5l.94-2.06 2.06-.94-2.06-.94L8.5 2.5l-.94 2.06-2.06.94zm10 10l.94 2.06.94-2.06 2.06-.94-2.06-.94-.94-2.06-.94 2.06-2.06.94z\"/><path d=\"M17.41 7.96l-1.37-1.37c-.4-.4-.92-.59-1.43-.59-.52 0-1.04.2-1.43.59L10.3 9.45l-7.72 7.72c-.78.78-.78 2.05 0 2.83L4 21.41c.39.39.9.59 1.41.59.51 0 1.02-.2 1.41-.59l7.78-7.78 2.81-2.81c.8-.78.8-2.07 0-2.86zM5.41 20L4 18.59l7.72-7.72 1.47 1.35L5.41 20z\"/>\n",
              "  </svg>\n",
              "      </button>\n",
              "      \n",
              "  <style>\n",
              "    .colab-df-container {\n",
              "      display:flex;\n",
              "      flex-wrap:wrap;\n",
              "      gap: 12px;\n",
              "    }\n",
              "\n",
              "    .colab-df-convert {\n",
              "      background-color: #E8F0FE;\n",
              "      border: none;\n",
              "      border-radius: 50%;\n",
              "      cursor: pointer;\n",
              "      display: none;\n",
              "      fill: #1967D2;\n",
              "      height: 32px;\n",
              "      padding: 0 0 0 0;\n",
              "      width: 32px;\n",
              "    }\n",
              "\n",
              "    .colab-df-convert:hover {\n",
              "      background-color: #E2EBFA;\n",
              "      box-shadow: 0px 1px 2px rgba(60, 64, 67, 0.3), 0px 1px 3px 1px rgba(60, 64, 67, 0.15);\n",
              "      fill: #174EA6;\n",
              "    }\n",
              "\n",
              "    [theme=dark] .colab-df-convert {\n",
              "      background-color: #3B4455;\n",
              "      fill: #D2E3FC;\n",
              "    }\n",
              "\n",
              "    [theme=dark] .colab-df-convert:hover {\n",
              "      background-color: #434B5C;\n",
              "      box-shadow: 0px 1px 3px 1px rgba(0, 0, 0, 0.15);\n",
              "      filter: drop-shadow(0px 1px 2px rgba(0, 0, 0, 0.3));\n",
              "      fill: #FFFFFF;\n",
              "    }\n",
              "  </style>\n",
              "\n",
              "      <script>\n",
              "        const buttonEl =\n",
              "          document.querySelector('#df-98dc3d77-2428-4dec-aad9-274766036372 button.colab-df-convert');\n",
              "        buttonEl.style.display =\n",
              "          google.colab.kernel.accessAllowed ? 'block' : 'none';\n",
              "\n",
              "        async function convertToInteractive(key) {\n",
              "          const element = document.querySelector('#df-98dc3d77-2428-4dec-aad9-274766036372');\n",
              "          const dataTable =\n",
              "            await google.colab.kernel.invokeFunction('convertToInteractive',\n",
              "                                                     [key], {});\n",
              "          if (!dataTable) return;\n",
              "\n",
              "          const docLinkHtml = 'Like what you see? Visit the ' +\n",
              "            '<a target=\"_blank\" href=https://colab.research.google.com/notebooks/data_table.ipynb>data table notebook</a>'\n",
              "            + ' to learn more about interactive tables.';\n",
              "          element.innerHTML = '';\n",
              "          dataTable['output_type'] = 'display_data';\n",
              "          await google.colab.output.renderOutput(dataTable, element);\n",
              "          const docLink = document.createElement('div');\n",
              "          docLink.innerHTML = docLinkHtml;\n",
              "          element.appendChild(docLink);\n",
              "        }\n",
              "      </script>\n",
              "    </div>\n",
              "  </div>\n",
              "  "
            ]
          },
          "metadata": {},
          "execution_count": 8
        }
      ],
      "source": [
        "df.head()"
      ]
    },
    {
      "cell_type": "code",
      "execution_count": 9,
      "id": "f32f4721",
      "metadata": {
        "id": "f32f4721"
      },
      "outputs": [],
      "source": [
        "df['Age']=df['Rings']+1.5\n",
        "df=df.drop(columns='Rings',axis=1)"
      ]
    },
    {
      "cell_type": "code",
      "execution_count": 10,
      "id": "15220184",
      "metadata": {
        "colab": {
          "base_uri": "https://localhost:8080/",
          "height": 300
        },
        "id": "15220184",
        "outputId": "5b7a615f-8530-4de9-ed54-f39460125aa9"
      },
      "outputs": [
        {
          "output_type": "execute_result",
          "data": {
            "text/plain": [
              "            Length     Diameter       Height  Whole weight  Shucked weight  \\\n",
              "count  4177.000000  4177.000000  4177.000000   4177.000000     4177.000000   \n",
              "mean      0.523992     0.407881     0.139516      0.828742        0.359367   \n",
              "std       0.120093     0.099240     0.041827      0.490389        0.221963   \n",
              "min       0.075000     0.055000     0.000000      0.002000        0.001000   \n",
              "25%       0.450000     0.350000     0.115000      0.441500        0.186000   \n",
              "50%       0.545000     0.425000     0.140000      0.799500        0.336000   \n",
              "75%       0.615000     0.480000     0.165000      1.153000        0.502000   \n",
              "max       0.815000     0.650000     1.130000      2.825500        1.488000   \n",
              "\n",
              "       Viscera weight  Shell weight          Age  \n",
              "count     4177.000000   4177.000000  4177.000000  \n",
              "mean         0.180594      0.238831    11.433684  \n",
              "std          0.109614      0.139203     3.224169  \n",
              "min          0.000500      0.001500     2.500000  \n",
              "25%          0.093500      0.130000     9.500000  \n",
              "50%          0.171000      0.234000    10.500000  \n",
              "75%          0.253000      0.329000    12.500000  \n",
              "max          0.760000      1.005000    30.500000  "
            ],
            "text/html": [
              "\n",
              "  <div id=\"df-aef30f7d-e171-4f3d-bafc-69e49e2fc2dc\">\n",
              "    <div class=\"colab-df-container\">\n",
              "      <div>\n",
              "<style scoped>\n",
              "    .dataframe tbody tr th:only-of-type {\n",
              "        vertical-align: middle;\n",
              "    }\n",
              "\n",
              "    .dataframe tbody tr th {\n",
              "        vertical-align: top;\n",
              "    }\n",
              "\n",
              "    .dataframe thead th {\n",
              "        text-align: right;\n",
              "    }\n",
              "</style>\n",
              "<table border=\"1\" class=\"dataframe\">\n",
              "  <thead>\n",
              "    <tr style=\"text-align: right;\">\n",
              "      <th></th>\n",
              "      <th>Length</th>\n",
              "      <th>Diameter</th>\n",
              "      <th>Height</th>\n",
              "      <th>Whole weight</th>\n",
              "      <th>Shucked weight</th>\n",
              "      <th>Viscera weight</th>\n",
              "      <th>Shell weight</th>\n",
              "      <th>Age</th>\n",
              "    </tr>\n",
              "  </thead>\n",
              "  <tbody>\n",
              "    <tr>\n",
              "      <th>count</th>\n",
              "      <td>4177.000000</td>\n",
              "      <td>4177.000000</td>\n",
              "      <td>4177.000000</td>\n",
              "      <td>4177.000000</td>\n",
              "      <td>4177.000000</td>\n",
              "      <td>4177.000000</td>\n",
              "      <td>4177.000000</td>\n",
              "      <td>4177.000000</td>\n",
              "    </tr>\n",
              "    <tr>\n",
              "      <th>mean</th>\n",
              "      <td>0.523992</td>\n",
              "      <td>0.407881</td>\n",
              "      <td>0.139516</td>\n",
              "      <td>0.828742</td>\n",
              "      <td>0.359367</td>\n",
              "      <td>0.180594</td>\n",
              "      <td>0.238831</td>\n",
              "      <td>11.433684</td>\n",
              "    </tr>\n",
              "    <tr>\n",
              "      <th>std</th>\n",
              "      <td>0.120093</td>\n",
              "      <td>0.099240</td>\n",
              "      <td>0.041827</td>\n",
              "      <td>0.490389</td>\n",
              "      <td>0.221963</td>\n",
              "      <td>0.109614</td>\n",
              "      <td>0.139203</td>\n",
              "      <td>3.224169</td>\n",
              "    </tr>\n",
              "    <tr>\n",
              "      <th>min</th>\n",
              "      <td>0.075000</td>\n",
              "      <td>0.055000</td>\n",
              "      <td>0.000000</td>\n",
              "      <td>0.002000</td>\n",
              "      <td>0.001000</td>\n",
              "      <td>0.000500</td>\n",
              "      <td>0.001500</td>\n",
              "      <td>2.500000</td>\n",
              "    </tr>\n",
              "    <tr>\n",
              "      <th>25%</th>\n",
              "      <td>0.450000</td>\n",
              "      <td>0.350000</td>\n",
              "      <td>0.115000</td>\n",
              "      <td>0.441500</td>\n",
              "      <td>0.186000</td>\n",
              "      <td>0.093500</td>\n",
              "      <td>0.130000</td>\n",
              "      <td>9.500000</td>\n",
              "    </tr>\n",
              "    <tr>\n",
              "      <th>50%</th>\n",
              "      <td>0.545000</td>\n",
              "      <td>0.425000</td>\n",
              "      <td>0.140000</td>\n",
              "      <td>0.799500</td>\n",
              "      <td>0.336000</td>\n",
              "      <td>0.171000</td>\n",
              "      <td>0.234000</td>\n",
              "      <td>10.500000</td>\n",
              "    </tr>\n",
              "    <tr>\n",
              "      <th>75%</th>\n",
              "      <td>0.615000</td>\n",
              "      <td>0.480000</td>\n",
              "      <td>0.165000</td>\n",
              "      <td>1.153000</td>\n",
              "      <td>0.502000</td>\n",
              "      <td>0.253000</td>\n",
              "      <td>0.329000</td>\n",
              "      <td>12.500000</td>\n",
              "    </tr>\n",
              "    <tr>\n",
              "      <th>max</th>\n",
              "      <td>0.815000</td>\n",
              "      <td>0.650000</td>\n",
              "      <td>1.130000</td>\n",
              "      <td>2.825500</td>\n",
              "      <td>1.488000</td>\n",
              "      <td>0.760000</td>\n",
              "      <td>1.005000</td>\n",
              "      <td>30.500000</td>\n",
              "    </tr>\n",
              "  </tbody>\n",
              "</table>\n",
              "</div>\n",
              "      <button class=\"colab-df-convert\" onclick=\"convertToInteractive('df-aef30f7d-e171-4f3d-bafc-69e49e2fc2dc')\"\n",
              "              title=\"Convert this dataframe to an interactive table.\"\n",
              "              style=\"display:none;\">\n",
              "        \n",
              "  <svg xmlns=\"http://www.w3.org/2000/svg\" height=\"24px\"viewBox=\"0 0 24 24\"\n",
              "       width=\"24px\">\n",
              "    <path d=\"M0 0h24v24H0V0z\" fill=\"none\"/>\n",
              "    <path d=\"M18.56 5.44l.94 2.06.94-2.06 2.06-.94-2.06-.94-.94-2.06-.94 2.06-2.06.94zm-11 1L8.5 8.5l.94-2.06 2.06-.94-2.06-.94L8.5 2.5l-.94 2.06-2.06.94zm10 10l.94 2.06.94-2.06 2.06-.94-2.06-.94-.94-2.06-.94 2.06-2.06.94z\"/><path d=\"M17.41 7.96l-1.37-1.37c-.4-.4-.92-.59-1.43-.59-.52 0-1.04.2-1.43.59L10.3 9.45l-7.72 7.72c-.78.78-.78 2.05 0 2.83L4 21.41c.39.39.9.59 1.41.59.51 0 1.02-.2 1.41-.59l7.78-7.78 2.81-2.81c.8-.78.8-2.07 0-2.86zM5.41 20L4 18.59l7.72-7.72 1.47 1.35L5.41 20z\"/>\n",
              "  </svg>\n",
              "      </button>\n",
              "      \n",
              "  <style>\n",
              "    .colab-df-container {\n",
              "      display:flex;\n",
              "      flex-wrap:wrap;\n",
              "      gap: 12px;\n",
              "    }\n",
              "\n",
              "    .colab-df-convert {\n",
              "      background-color: #E8F0FE;\n",
              "      border: none;\n",
              "      border-radius: 50%;\n",
              "      cursor: pointer;\n",
              "      display: none;\n",
              "      fill: #1967D2;\n",
              "      height: 32px;\n",
              "      padding: 0 0 0 0;\n",
              "      width: 32px;\n",
              "    }\n",
              "\n",
              "    .colab-df-convert:hover {\n",
              "      background-color: #E2EBFA;\n",
              "      box-shadow: 0px 1px 2px rgba(60, 64, 67, 0.3), 0px 1px 3px 1px rgba(60, 64, 67, 0.15);\n",
              "      fill: #174EA6;\n",
              "    }\n",
              "\n",
              "    [theme=dark] .colab-df-convert {\n",
              "      background-color: #3B4455;\n",
              "      fill: #D2E3FC;\n",
              "    }\n",
              "\n",
              "    [theme=dark] .colab-df-convert:hover {\n",
              "      background-color: #434B5C;\n",
              "      box-shadow: 0px 1px 3px 1px rgba(0, 0, 0, 0.15);\n",
              "      filter: drop-shadow(0px 1px 2px rgba(0, 0, 0, 0.3));\n",
              "      fill: #FFFFFF;\n",
              "    }\n",
              "  </style>\n",
              "\n",
              "      <script>\n",
              "        const buttonEl =\n",
              "          document.querySelector('#df-aef30f7d-e171-4f3d-bafc-69e49e2fc2dc button.colab-df-convert');\n",
              "        buttonEl.style.display =\n",
              "          google.colab.kernel.accessAllowed ? 'block' : 'none';\n",
              "\n",
              "        async function convertToInteractive(key) {\n",
              "          const element = document.querySelector('#df-aef30f7d-e171-4f3d-bafc-69e49e2fc2dc');\n",
              "          const dataTable =\n",
              "            await google.colab.kernel.invokeFunction('convertToInteractive',\n",
              "                                                     [key], {});\n",
              "          if (!dataTable) return;\n",
              "\n",
              "          const docLinkHtml = 'Like what you see? Visit the ' +\n",
              "            '<a target=\"_blank\" href=https://colab.research.google.com/notebooks/data_table.ipynb>data table notebook</a>'\n",
              "            + ' to learn more about interactive tables.';\n",
              "          element.innerHTML = '';\n",
              "          dataTable['output_type'] = 'display_data';\n",
              "          await google.colab.output.renderOutput(dataTable, element);\n",
              "          const docLink = document.createElement('div');\n",
              "          docLink.innerHTML = docLinkHtml;\n",
              "          element.appendChild(docLink);\n",
              "        }\n",
              "      </script>\n",
              "    </div>\n",
              "  </div>\n",
              "  "
            ]
          },
          "metadata": {},
          "execution_count": 10
        }
      ],
      "source": [
        "df.describe()"
      ]
    },
    {
      "cell_type": "code",
      "execution_count": 11,
      "id": "e7f2cb3a",
      "metadata": {
        "colab": {
          "base_uri": "https://localhost:8080/"
        },
        "id": "e7f2cb3a",
        "outputId": "e90cdfd6-e483-43bb-a768-a81bbc3e6d22"
      },
      "outputs": [
        {
          "output_type": "execute_result",
          "data": {
            "text/plain": [
              "0"
            ]
          },
          "metadata": {},
          "execution_count": 11
        }
      ],
      "source": [
        "df.duplicated().sum()"
      ]
    },
    {
      "cell_type": "code",
      "execution_count": 12,
      "id": "fc1f8f4a",
      "metadata": {
        "colab": {
          "base_uri": "https://localhost:8080/"
        },
        "id": "fc1f8f4a",
        "outputId": "ccb86851-62e5-4fd8-dd0a-23be8b0cc745"
      },
      "outputs": [
        {
          "output_type": "execute_result",
          "data": {
            "text/plain": [
              "M    1528\n",
              "I    1342\n",
              "F    1307\n",
              "Name: Sex, dtype: int64"
            ]
          },
          "metadata": {},
          "execution_count": 12
        }
      ],
      "source": [
        "df.Sex.value_counts()"
      ]
    },
    {
      "cell_type": "code",
      "execution_count": 13,
      "id": "1a5ae969",
      "metadata": {
        "colab": {
          "base_uri": "https://localhost:8080/"
        },
        "id": "1a5ae969",
        "outputId": "8429a147-e5b7-4797-e606-3abdc8be06c8"
      },
      "outputs": [
        {
          "output_type": "execute_result",
          "data": {
            "text/plain": [
              "0    M\n",
              "dtype: object"
            ]
          },
          "metadata": {},
          "execution_count": 13
        }
      ],
      "source": [
        "df.Sex.mode()"
      ]
    },
    {
      "cell_type": "code",
      "execution_count": 14,
      "id": "94516d49",
      "metadata": {
        "colab": {
          "base_uri": "https://localhost:8080/",
          "height": 1000
        },
        "id": "94516d49",
        "outputId": "7e88be50-93c2-494e-feed-385178a845af"
      },
      "outputs": [
        {
          "output_type": "stream",
          "name": "stderr",
          "text": [
            "/usr/local/lib/python3.7/dist-packages/seaborn/_decorators.py:43: FutureWarning: Pass the following variable as a keyword arg: x. From version 0.12, the only valid positional argument will be `data`, and passing other arguments without an explicit keyword will result in an error or misinterpretation.\n",
            "  FutureWarning\n"
          ]
        },
        {
          "output_type": "display_data",
          "data": {
            "text/plain": [
              "<Figure size 432x288 with 1 Axes>"
            ],
            "image/png": "[encoded data removed]"
          },
          "metadata": {
            "needs_background": "light"
          }
        },
        {
          "output_type": "stream",
          "name": "stderr",
          "text": [
            "/usr/local/lib/python3.7/dist-packages/seaborn/_decorators.py:43: FutureWarning: Pass the following variable as a keyword arg: x. From version 0.12, the only valid positional argument will be `data`, and passing other arguments without an explicit keyword will result in an error or misinterpretation.\n",
            "  FutureWarning\n"
          ]
        },
        {
          "output_type": "display_data",
          "data": {
            "text/plain": [
              "<Figure size 432x288 with 1 Axes>"
            ],
            "image/png": "[encoded data removed]"
          },
          "metadata": {
            "needs_background": "light"
          }
        },
        {
          "output_type": "stream",
          "name": "stderr",
          "text": [
            "/usr/local/lib/python3.7/dist-packages/seaborn/_decorators.py:43: FutureWarning: Pass the following variable as a keyword arg: x. From version 0.12, the only valid positional argument will be `data`, and passing other arguments without an explicit keyword will result in an error or misinterpretation.\n",
            "  FutureWarning\n"
          ]
        },
        {
          "output_type": "display_data",
          "data": {
            "text/plain": [
              "<Figure size 432x288 with 1 Axes>"
            ],
            "image/png": "[encoded data removed]"
          },
          "metadata": {
            "needs_background": "light"
          }
        },
        {
          "output_type": "stream",
          "name": "stderr",
          "text": [
            "/usr/local/lib/python3.7/dist-packages/seaborn/_decorators.py:43: FutureWarning: Pass the following variable as a keyword arg: x. From version 0.12, the only valid positional argument will be `data`, and passing other arguments without an explicit keyword will result in an error or misinterpretation.\n",
            "  FutureWarning\n"
          ]
        },
        {
          "output_type": "display_data",
          "data": {
            "text/plain": [
              "<Figure size 432x288 with 1 Axes>"
            ],
            "image/png": "[encoded data removed]"
          },
          "metadata": {
            "needs_background": "light"
          }
        },
        {
          "output_type": "stream",
          "name": "stderr",
          "text": [
            "/usr/local/lib/python3.7/dist-packages/seaborn/_decorators.py:43: FutureWarning: Pass the following variable as a keyword arg: x. From version 0.12, the only valid positional argument will be `data`, and passing other arguments without an explicit keyword will result in an error or misinterpretation.\n",
            "  FutureWarning\n"
          ]
        },
        {
          "output_type": "display_data",
          "data": {
            "text/plain": [
              "<Figure size 432x288 with 1 Axes>"
            ],
            "image/png": "[encoded data removed]"
          },
          "metadata": {
            "needs_background": "light"
          }
        },
        {
          "output_type": "stream",
          "name": "stderr",
          "text": [
            "/usr/local/lib/python3.7/dist-packages/seaborn/_decorators.py:43: FutureWarning: Pass the following variable as a keyword arg: x. From version 0.12, the only valid positional argument will be `data`, and passing other arguments without an explicit keyword will result in an error or misinterpretation.\n",
            "  FutureWarning\n"
          ]
        },
        {
          "output_type": "display_data",
          "data": {
            "text/plain": [
              "<Figure size 432x288 with 1 Axes>"
            ],
            "image/png": "[encoded data removed]"
          },
          "metadata": {
            "needs_background": "light"
          }
        },
        {
          "output_type": "stream",
          "name": "stderr",
          "text": [
            "/usr/local/lib/python3.7/dist-packages/seaborn/_decorators.py:43: FutureWarning: Pass the following variable as a keyword arg: x. From version 0.12, the only valid positional argument will be `data`, and passing other arguments without an explicit keyword will result in an error or misinterpretation.\n",
            "  FutureWarning\n"
          ]
        },
        {
          "output_type": "display_data",
          "data": {
            "text/plain": [
              "<Figure size 432x288 with 1 Axes>"
            ],
            "image/png": "[encoded data removed]"
          },
          "metadata": {
            "needs_background": "light"
          }
        },
        {
          "output_type": "stream",
          "name": "stderr",
          "text": [
            "/usr/local/lib/python3.7/dist-packages/seaborn/_decorators.py:43: FutureWarning: Pass the following variable as a keyword arg: x. From version 0.12, the only valid positional argument will be `data`, and passing other arguments without an explicit keyword will result in an error or misinterpretation.\n",
            "  FutureWarning\n"
          ]
        },
        {
          "output_type": "display_data",
          "data": {
            "text/plain": [
              "<Figure size 432x288 with 1 Axes>"
            ],
            "image/png": "[encoded data removed]"
          },
          "metadata": {
            "needs_background": "light"
          }
        }
      ],
      "source": [
        "for col in list(df.columns):\n",
        "    if col != 'Sex':\n",
        "                sns.boxplot(df[col])\n",
        "                plt.show()"
      ]
    },
    {
      "cell_type": "code",
      "execution_count": 15,
      "id": "58143dcd",
      "metadata": {
        "colab": {
          "base_uri": "https://localhost:8080/",
          "height": 1000
        },
        "id": "58143dcd",
        "outputId": "e64cb597-0fdf-458f-b937-4c6ca438280d"
      },
      "outputs": [
        {
          "output_type": "display_data",
          "data": {
            "text/plain": [
              "<Figure size 432x288 with 1 Axes>"
            ],
            "image/png": "[encoded data removed]"
          },
          "metadata": {
            "needs_background": "light"
          }
        },
        {
          "output_type": "display_data",
          "data": {
            "text/plain": [
              "<Figure size 432x288 with 1 Axes>"
            ],
            "image/png": "[encoded data removed]"
          },
          "metadata": {
            "needs_background": "light"
          }
        },
        {
          "output_type": "display_data",
          "data": {
            "text/plain": [
              "<Figure size 432x288 with 1 Axes>"
            ],
            "image/png": "[encoded data removed]"
          },
          "metadata": {
            "needs_background": "light"
          }
        },
        {
          "output_type": "display_data",
          "data": {
            "text/plain": [
              "<Figure size 432x288 with 1 Axes>"
            ],
            "image/png": "[encoded data removed]"
          },
          "metadata": {
            "needs_background": "light"
          }
        },
        {
          "output_type": "display_data",
          "data": {
            "text/plain": [
              "<Figure size 432x288 with 1 Axes>"
            ],
            "image/png": "[encoded data removed]"
          },
          "metadata": {
            "needs_background": "light"
          }
        },
        {
          "output_type": "display_data",
          "data": {
            "text/plain": [
              "<Figure size 432x288 with 1 Axes>"
            ],
            "image/png": "[encoded data removed]"
          },
          "metadata": {
            "needs_background": "light"
          }
        },
        {
          "output_type": "display_data",
          "data": {
            "text/plain": [
              "<Figure size 432x288 with 1 Axes>"
            ],
            "image/png": "[encoded data removed]"
          },
          "metadata": {
            "needs_background": "light"
          }
        },
        {
          "output_type": "display_data",
          "data": {
            "text/plain": [
              "<Figure size 432x288 with 1 Axes>"
            ],
            "image/png": "[encoded data removed]"
          },
          "metadata": {
            "needs_background": "light"
          }
        },
        {
          "output_type": "display_data",
          "data": {
            "text/plain": [
              "<Figure size 432x288 with 1 Axes>"
            ],
            "image/png": "[encoded data removed]"
          },
          "metadata": {
            "needs_background": "light"
          }
        }
      ],
      "source": [
        "for col in list(df.columns):\n",
        "    plt.hist(df[col])\n",
        "    plt.xlabel(col)\n",
        "    plt.show()"
      ]
    },
    {
      "cell_type": "markdown",
      "metadata": {
        "id": "WN_kzCQxLP9A"
      },
      "source": [
        "Bivariate Analysis"
      ],
      "id": "WN_kzCQxLP9A"
    },
    {
      "cell_type": "code",
      "execution_count": 16,
      "id": "571761a1",
      "metadata": {
        "colab": {
          "base_uri": "https://localhost:8080/",
          "height": 1000
        },
        "id": "571761a1",
        "outputId": "8f23acdd-c7a5-4f38-94b9-e8ec2c982d36"
      },
      "outputs": [
        {
          "output_type": "display_data",
          "data": {
            "text/plain": [
              "<Figure size 432x288 with 1 Axes>"
            ],
            "image/png": "[encoded data removed]"
          },
          "metadata": {
            "needs_background": "light"
          }
        },
        {
          "output_type": "display_data",
          "data": {
            "text/plain": [
              "<Figure size 432x288 with 1 Axes>"
            ],
            "image/png": "[encoded data removed]"
          },
          "metadata": {
            "needs_background": "light"
          }
        },
        {
          "output_type": "display_data",
          "data": {
            "text/plain": [
              "<Figure size 432x288 with 1 Axes>"
            ],
            "image/png": "[encoded data removed]"
          },
          "metadata": {
            "needs_background": "light"
          }
        },
        {
          "output_type": "display_data",
          "data": {
            "text/plain": [
              "<Figure size 432x288 with 1 Axes>"
            ],
            "image/png": "[encoded data removed]"
          },
          "metadata": {
            "needs_background": "light"
          }
        },
        {
          "output_type": "display_data",
          "data": {
            "text/plain": [
              "<Figure size 432x288 with 1 Axes>"
            ],
            "image/png": "[encoded data removed]"
          },
          "metadata": {
            "needs_background": "light"
          }
        },
        {
          "output_type": "display_data",
          "data": {
            "text/plain": [
              "<Figure size 432x288 with 1 Axes>"
            ],
            "image/png": "[encoded data removed]"
          },
          "metadata": {
            "needs_background": "light"
          }
        },
        {
          "output_type": "display_data",
          "data": {
            "text/plain": [
              "<Figure size 432x288 with 1 Axes>"
            ],
            "image/png": "[encoded data removed]"
          },
          "metadata": {
            "needs_background": "light"
          }
        },
        {
          "output_type": "display_data",
          "data": {
            "text/plain": [
              "<Figure size 432x288 with 1 Axes>"
            ],
            "image/png": "[encoded data removed]"
          },
          "metadata": {
            "needs_background": "light"
          }
        }
      ],
      "source": [
        "for col in list(df.columns)[:-1]:\n",
        "    sns.barplot(x=df[col],y=df['Age'])\n",
        "    plt.show()"
      ]
    },
    {
      "cell_type": "code",
      "execution_count": 17,
      "id": "9032b949",
      "metadata": {
        "colab": {
          "base_uri": "https://localhost:8080/",
          "height": 356
        },
        "id": "9032b949",
        "outputId": "7ed3e4f2-9486-44ed-9fcc-bcdc15c32612"
      },
      "outputs": [
        {
          "output_type": "execute_result",
          "data": {
            "text/plain": [
              "<matplotlib.axes._subplots.AxesSubplot at 0x7fcb88f077d0>"
            ]
          },
          "metadata": {},
          "execution_count": 17
        },
        {
          "output_type": "display_data",
          "data": {
            "text/plain": [
              "<Figure size 432x288 with 2 Axes>"
            ],
            "image/png": "[encoded data removed]"
          },
          "metadata": {
            "needs_background": "light"
          }
        }
      ],
      "source": [
        "sns.heatmap(df.corr(),annot=True)"
      ]
    },
    {
      "cell_type": "markdown",
      "id": "d609bab1",
      "metadata": {
        "id": "d609bab1"
      },
      "source": [
        "#### Multivariate Analysis"
      ]
    },
    {
      "cell_type": "code",
      "execution_count": 18,
      "id": "bf75cb64",
      "metadata": {
        "scrolled": true,
        "colab": {
          "base_uri": "https://localhost:8080/",
          "height": 296
        },
        "id": "bf75cb64",
        "outputId": "9f64b976-f454-43ea-b15f-22f3bd1590dc"
      },
      "outputs": [
        {
          "output_type": "execute_result",
          "data": {
            "text/plain": [
              "<matplotlib.axes._subplots.AxesSubplot at 0x7fcb87f194d0>"
            ]
          },
          "metadata": {},
          "execution_count": 18
        },
        {
          "output_type": "display_data",
          "data": {
            "text/plain": [
              "<Figure size 432x288 with 1 Axes>"
            ],
            "image/png": "[encoded data removed]"
          },
          "metadata": {
            "needs_background": "light"
          }
        }
      ],
      "source": [
        "sns.scatterplot(x=df.Height,y=df.Age,hue=df.Sex)"
      ]
    },
    {
      "cell_type": "markdown",
      "metadata": {
        "id": "V9xvXXy6Lm_2"
      },
      "source": [
        "#### DESCRIPTIVE STATISTICS"
      ],
      "id": "V9xvXXy6Lm_2"
    },
    {
      "cell_type": "code",
      "execution_count": 19,
      "id": "d5596f59",
      "metadata": {
        "colab": {
          "base_uri": "https://localhost:8080/",
          "height": 300
        },
        "id": "d5596f59",
        "outputId": "d75dc5b2-4508-4391-a652-98915a0bc35d"
      },
      "outputs": [
        {
          "output_type": "execute_result",
          "data": {
            "text/plain": [
              "            Length     Diameter       Height  Whole weight  Shucked weight  \\\n",
              "count  4177.000000  4177.000000  4177.000000   4177.000000     4177.000000   \n",
              "mean      0.523992     0.407881     0.139516      0.828742        0.359367   \n",
              "std       0.120093     0.099240     0.041827      0.490389        0.221963   \n",
              "min       0.075000     0.055000     0.000000      0.002000        0.001000   \n",
              "25%       0.450000     0.350000     0.115000      0.441500        0.186000   \n",
              "50%       0.545000     0.425000     0.140000      0.799500        0.336000   \n",
              "75%       0.615000     0.480000     0.165000      1.153000        0.502000   \n",
              "max       0.815000     0.650000     1.130000      2.825500        1.488000   \n",
              "\n",
              "       Viscera weight  Shell weight          Age  \n",
              "count     4177.000000   4177.000000  4177.000000  \n",
              "mean         0.180594      0.238831    11.433684  \n",
              "std          0.109614      0.139203     3.224169  \n",
              "min          0.000500      0.001500     2.500000  \n",
              "25%          0.093500      0.130000     9.500000  \n",
              "50%          0.171000      0.234000    10.500000  \n",
              "75%          0.253000      0.329000    12.500000  \n",
              "max          0.760000      1.005000    30.500000  "
            ],
            "text/html": [
              "\n",
              "  <div id=\"df-d219e51a-1f38-451c-98ce-3be5a86a7bc5\">\n",
              "    <div class=\"colab-df-container\">\n",
              "      <div>\n",
              "<style scoped>\n",
              "    .dataframe tbody tr th:only-of-type {\n",
              "        vertical-align: middle;\n",
              "    }\n",
              "\n",
              "    .dataframe tbody tr th {\n",
              "        vertical-align: top;\n",
              "    }\n",
              "\n",
              "    .dataframe thead th {\n",
              "        text-align: right;\n",
              "    }\n",
              "</style>\n",
              "<table border=\"1\" class=\"dataframe\">\n",
              "  <thead>\n",
              "    <tr style=\"text-align: right;\">\n",
              "      <th></th>\n",
              "      <th>Length</th>\n",
              "      <th>Diameter</th>\n",
              "      <th>Height</th>\n",
              "      <th>Whole weight</th>\n",
              "      <th>Shucked weight</th>\n",
              "      <th>Viscera weight</th>\n",
              "      <th>Shell weight</th>\n",
              "      <th>Age</th>\n",
              "    </tr>\n",
              "  </thead>\n",
              "  <tbody>\n",
              "    <tr>\n",
              "      <th>count</th>\n",
              "      <td>4177.000000</td>\n",
              "      <td>4177.000000</td>\n",
              "      <td>4177.000000</td>\n",
              "      <td>4177.000000</td>\n",
              "      <td>4177.000000</td>\n",
              "      <td>4177.000000</td>\n",
              "      <td>4177.000000</td>\n",
              "      <td>4177.000000</td>\n",
              "    </tr>\n",
              "    <tr>\n",
              "      <th>mean</th>\n",
              "      <td>0.523992</td>\n",
              "      <td>0.407881</td>\n",
              "      <td>0.139516</td>\n",
              "      <td>0.828742</td>\n",
              "      <td>0.359367</td>\n",
              "      <td>0.180594</td>\n",
              "      <td>0.238831</td>\n",
              "      <td>11.433684</td>\n",
              "    </tr>\n",
              "    <tr>\n",
              "      <th>std</th>\n",
              "      <td>0.120093</td>\n",
              "      <td>0.099240</td>\n",
              "      <td>0.041827</td>\n",
              "      <td>0.490389</td>\n",
              "      <td>0.221963</td>\n",
              "      <td>0.109614</td>\n",
              "      <td>0.139203</td>\n",
              "      <td>3.224169</td>\n",
              "    </tr>\n",
              "    <tr>\n",
              "      <th>min</th>\n",
              "      <td>0.075000</td>\n",
              "      <td>0.055000</td>\n",
              "      <td>0.000000</td>\n",
              "      <td>0.002000</td>\n",
              "      <td>0.001000</td>\n",
              "      <td>0.000500</td>\n",
              "      <td>0.001500</td>\n",
              "      <td>2.500000</td>\n",
              "    </tr>\n",
              "    <tr>\n",
              "      <th>25%</th>\n",
              "      <td>0.450000</td>\n",
              "      <td>0.350000</td>\n",
              "      <td>0.115000</td>\n",
              "      <td>0.441500</td>\n",
              "      <td>0.186000</td>\n",
              "      <td>0.093500</td>\n",
              "      <td>0.130000</td>\n",
              "      <td>9.500000</td>\n",
              "    </tr>\n",
              "    <tr>\n",
              "      <th>50%</th>\n",
              "      <td>0.545000</td>\n",
              "      <td>0.425000</td>\n",
              "      <td>0.140000</td>\n",
              "      <td>0.799500</td>\n",
              "      <td>0.336000</td>\n",
              "      <td>0.171000</td>\n",
              "      <td>0.234000</td>\n",
              "      <td>10.500000</td>\n",
              "    </tr>\n",
              "    <tr>\n",
              "      <th>75%</th>\n",
              "      <td>0.615000</td>\n",
              "      <td>0.480000</td>\n",
              "      <td>0.165000</td>\n",
              "      <td>1.153000</td>\n",
              "      <td>0.502000</td>\n",
              "      <td>0.253000</td>\n",
              "      <td>0.329000</td>\n",
              "      <td>12.500000</td>\n",
              "    </tr>\n",
              "    <tr>\n",
              "      <th>max</th>\n",
              "      <td>0.815000</td>\n",
              "      <td>0.650000</td>\n",
              "      <td>1.130000</td>\n",
              "      <td>2.825500</td>\n",
              "      <td>1.488000</td>\n",
              "      <td>0.760000</td>\n",
              "      <td>1.005000</td>\n",
              "      <td>30.500000</td>\n",
              "    </tr>\n",
              "  </tbody>\n",
              "</table>\n",
              "</div>\n",
              "      <button class=\"colab-df-convert\" onclick=\"convertToInteractive('df-d219e51a-1f38-451c-98ce-3be5a86a7bc5')\"\n",
              "              title=\"Convert this dataframe to an interactive table.\"\n",
              "              style=\"display:none;\">\n",
              "        \n",
              "  <svg xmlns=\"http://www.w3.org/2000/svg\" height=\"24px\"viewBox=\"0 0 24 24\"\n",
              "       width=\"24px\">\n",
              "    <path d=\"M0 0h24v24H0V0z\" fill=\"none\"/>\n",
              "    <path d=\"M18.56 5.44l.94 2.06.94-2.06 2.06-.94-2.06-.94-.94-2.06-.94 2.06-2.06.94zm-11 1L8.5 8.5l.94-2.06 2.06-.94-2.06-.94L8.5 2.5l-.94 2.06-2.06.94zm10 10l.94 2.06.94-2.06 2.06-.94-2.06-.94-.94-2.06-.94 2.06-2.06.94z\"/><path d=\"M17.41 7.96l-1.37-1.37c-.4-.4-.92-.59-1.43-.59-.52 0-1.04.2-1.43.59L10.3 9.45l-7.72 7.72c-.78.78-.78 2.05 0 2.83L4 21.41c.39.39.9.59 1.41.59.51 0 1.02-.2 1.41-.59l7.78-7.78 2.81-2.81c.8-.78.8-2.07 0-2.86zM5.41 20L4 18.59l7.72-7.72 1.47 1.35L5.41 20z\"/>\n",
              "  </svg>\n",
              "      </button>\n",
              "      \n",
              "  <style>\n",
              "    .colab-df-container {\n",
              "      display:flex;\n",
              "      flex-wrap:wrap;\n",
              "      gap: 12px;\n",
              "    }\n",
              "\n",
              "    .colab-df-convert {\n",
              "      background-color: #E8F0FE;\n",
              "      border: none;\n",
              "      border-radius: 50%;\n",
              "      cursor: pointer;\n",
              "      display: none;\n",
              "      fill: #1967D2;\n",
              "      height: 32px;\n",
              "      padding: 0 0 0 0;\n",
              "      width: 32px;\n",
              "    }\n",
              "\n",
              "    .colab-df-convert:hover {\n",
              "      background-color: #E2EBFA;\n",
              "      box-shadow: 0px 1px 2px rgba(60, 64, 67, 0.3), 0px 1px 3px 1px rgba(60, 64, 67, 0.15);\n",
              "      fill: #174EA6;\n",
              "    }\n",
              "\n",
              "    [theme=dark] .colab-df-convert {\n",
              "      background-color: #3B4455;\n",
              "      fill: #D2E3FC;\n",
              "    }\n",
              "\n",
              "    [theme=dark] .colab-df-convert:hover {\n",
              "      background-color: #434B5C;\n",
              "      box-shadow: 0px 1px 3px 1px rgba(0, 0, 0, 0.15);\n",
              "      filter: drop-shadow(0px 1px 2px rgba(0, 0, 0, 0.3));\n",
              "      fill: #FFFFFF;\n",
              "    }\n",
              "  </style>\n",
              "\n",
              "      <script>\n",
              "        const buttonEl =\n",
              "          document.querySelector('#df-d219e51a-1f38-451c-98ce-3be5a86a7bc5 button.colab-df-convert');\n",
              "        buttonEl.style.display =\n",
              "          google.colab.kernel.accessAllowed ? 'block' : 'none';\n",
              "\n",
              "        async function convertToInteractive(key) {\n",
              "          const element = document.querySelector('#df-d219e51a-1f38-451c-98ce-3be5a86a7bc5');\n",
              "          const dataTable =\n",
              "            await google.colab.kernel.invokeFunction('convertToInteractive',\n",
              "                                                     [key], {});\n",
              "          if (!dataTable) return;\n",
              "\n",
              "          const docLinkHtml = 'Like what you see? Visit the ' +\n",
              "            '<a target=\"_blank\" href=https://colab.research.google.com/notebooks/data_table.ipynb>data table notebook</a>'\n",
              "            + ' to learn more about interactive tables.';\n",
              "          element.innerHTML = '';\n",
              "          dataTable['output_type'] = 'display_data';\n",
              "          await google.colab.output.renderOutput(dataTable, element);\n",
              "          const docLink = document.createElement('div');\n",
              "          docLink.innerHTML = docLinkHtml;\n",
              "          element.appendChild(docLink);\n",
              "        }\n",
              "      </script>\n",
              "    </div>\n",
              "  </div>\n",
              "  "
            ]
          },
          "metadata": {},
          "execution_count": 19
        }
      ],
      "source": [
        "df.describe()"
      ]
    },
    {
      "cell_type": "code",
      "execution_count": 20,
      "id": "4e02d084",
      "metadata": {
        "colab": {
          "base_uri": "https://localhost:8080/"
        },
        "id": "4e02d084",
        "outputId": "f69ba48a-bdff-47ff-c180-7fe3b5e46990"
      },
      "outputs": [
        {
          "output_type": "stream",
          "name": "stderr",
          "text": [
            "/usr/local/lib/python3.7/dist-packages/ipykernel_launcher.py:1: FutureWarning: Dropping of nuisance columns in DataFrame reductions (with 'numeric_only=None') is deprecated; in a future version this will raise TypeError.  Select only valid columns before calling the reduction.\n",
            "  \"\"\"Entry point for launching an IPython kernel.\n"
          ]
        },
        {
          "output_type": "execute_result",
          "data": {
            "text/plain": [
              "Length             0.014422\n",
              "Diameter           0.009849\n",
              "Height             0.001750\n",
              "Whole weight       0.240481\n",
              "Shucked weight     0.049268\n",
              "Viscera weight     0.012015\n",
              "Shell weight       0.019377\n",
              "Age               10.395266\n",
              "dtype: float64"
            ]
          },
          "metadata": {},
          "execution_count": 20
        }
      ],
      "source": [
        "df.var()"
      ]
    },
    {
      "cell_type": "code",
      "execution_count": 21,
      "id": "060ad657",
      "metadata": {
        "colab": {
          "base_uri": "https://localhost:8080/"
        },
        "id": "060ad657",
        "outputId": "021121d8-fd7e-42e2-98ec-12d78c99809f"
      },
      "outputs": [
        {
          "output_type": "stream",
          "name": "stderr",
          "text": [
            "/usr/local/lib/python3.7/dist-packages/ipykernel_launcher.py:1: FutureWarning: Dropping of nuisance columns in DataFrame reductions (with 'numeric_only=None') is deprecated; in a future version this will raise TypeError.  Select only valid columns before calling the reduction.\n",
            "  \"\"\"Entry point for launching an IPython kernel.\n"
          ]
        },
        {
          "output_type": "execute_result",
          "data": {
            "text/plain": [
              "Length            0.120093\n",
              "Diameter          0.099240\n",
              "Height            0.041827\n",
              "Whole weight      0.490389\n",
              "Shucked weight    0.221963\n",
              "Viscera weight    0.109614\n",
              "Shell weight      0.139203\n",
              "Age               3.224169\n",
              "dtype: float64"
            ]
          },
          "metadata": {},
          "execution_count": 21
        }
      ],
      "source": [
        "df.std()"
      ]
    },
    {
      "cell_type": "code",
      "execution_count": 22,
      "id": "405290eb",
      "metadata": {
        "colab": {
          "base_uri": "https://localhost:8080/"
        },
        "id": "405290eb",
        "outputId": "3309759d-c9e9-4536-cae1-d72e669589cc"
      },
      "outputs": [
        {
          "output_type": "stream",
          "name": "stderr",
          "text": [
            "/usr/local/lib/python3.7/dist-packages/ipykernel_launcher.py:1: FutureWarning: Dropping of nuisance columns in DataFrame reductions (with 'numeric_only=None') is deprecated; in a future version this will raise TypeError.  Select only valid columns before calling the reduction.\n",
            "  \"\"\"Entry point for launching an IPython kernel.\n"
          ]
        },
        {
          "output_type": "execute_result",
          "data": {
            "text/plain": [
              "Length           -0.639873\n",
              "Diameter         -0.609198\n",
              "Height            3.128817\n",
              "Whole weight      0.530959\n",
              "Shucked weight    0.719098\n",
              "Viscera weight    0.591852\n",
              "Shell weight      0.620927\n",
              "Age               1.114102\n",
              "dtype: float64"
            ]
          },
          "metadata": {},
          "execution_count": 22
        }
      ],
      "source": [
        "df.skew()"
      ]
    },
    {
      "cell_type": "code",
      "execution_count": 23,
      "id": "23978055",
      "metadata": {
        "colab": {
          "base_uri": "https://localhost:8080/"
        },
        "id": "23978055",
        "outputId": "ac2bb992-e896-46ef-f65d-682a5f1eb0a4"
      },
      "outputs": [
        {
          "output_type": "stream",
          "name": "stderr",
          "text": [
            "/usr/local/lib/python3.7/dist-packages/ipykernel_launcher.py:1: FutureWarning: Dropping of nuisance columns in DataFrame reductions (with 'numeric_only=None') is deprecated; in a future version this will raise TypeError.  Select only valid columns before calling the reduction.\n",
            "  \"\"\"Entry point for launching an IPython kernel.\n"
          ]
        },
        {
          "output_type": "execute_result",
          "data": {
            "text/plain": [
              "Length             0.064621\n",
              "Diameter          -0.045476\n",
              "Height            76.025509\n",
              "Whole weight      -0.023644\n",
              "Shucked weight     0.595124\n",
              "Viscera weight     0.084012\n",
              "Shell weight       0.531926\n",
              "Age                2.330687\n",
              "dtype: float64"
            ]
          },
          "metadata": {},
          "execution_count": 23
        }
      ],
      "source": [
        "df.kurt()"
      ]
    },
    {
      "cell_type": "markdown",
      "metadata": {
        "id": "jyK8X-j_Lzk8"
      },
      "source": [
        "#### MISSING VALUES"
      ],
      "id": "jyK8X-j_Lzk8"
    },
    {
      "cell_type": "code",
      "execution_count": 24,
      "id": "d776c9e4",
      "metadata": {
        "colab": {
          "base_uri": "https://localhost:8080/"
        },
        "id": "d776c9e4",
        "outputId": "e7f07177-7c9b-4a01-e2ca-e92c8fb77623"
      },
      "outputs": [
        {
          "output_type": "execute_result",
          "data": {
            "text/plain": [
              "0"
            ]
          },
          "metadata": {},
          "execution_count": 24
        }
      ],
      "source": [
        "df.isnull().sum().sum()"
      ]
    },
    {
      "cell_type": "code",
      "execution_count": 25,
      "id": "235c0af9",
      "metadata": {
        "id": "235c0af9"
      },
      "outputs": [],
      "source": [
        "# there is no null value"
      ]
    },
    {
      "cell_type": "markdown",
      "id": "6273bc00",
      "metadata": {
        "id": "6273bc00"
      },
      "source": [
        "#### OUTLIERS"
      ]
    },
    {
      "cell_type": "code",
      "execution_count": 26,
      "metadata": {
        "id": "UHGqN_u6MCKG"
      },
      "outputs": [],
      "source": [
        "qnt=df.quantile(q=(0.75,0.25))\n",
        "iqr=qnt.loc[0.75]-qnt.loc[0.25]"
      ],
      "id": "UHGqN_u6MCKG"
    },
    {
      "cell_type": "code",
      "execution_count": 27,
      "metadata": {
        "id": "OT2RGy0AMCKH"
      },
      "outputs": [],
      "source": [
        "upper_extreme=qnt.loc[0.75]+1.5*iqr\n",
        "lower_extreme=qnt.loc[0.25]-1.5*iqr"
      ],
      "id": "OT2RGy0AMCKH"
    },
    {
      "cell_type": "code",
      "execution_count": 28,
      "metadata": {
        "id": "3vZ9-S48MJ2Y"
      },
      "outputs": [],
      "source": [
        "for col in list(df.columns)[1:]:\n",
        "        df[col]=np.where(df[col]>upper_extreme[col]-0.2,df[col].mean(),df[col])\n",
        "        df[col]=np.where(df[col]<lower_extreme[col]+0.2,df[col].mean(),df[col])"
      ],
      "id": "3vZ9-S48MJ2Y"
    },
    {
      "cell_type": "markdown",
      "metadata": {
        "id": "u3ddX5Z4MNjw"
      },
      "source": [
        "#### CATEGORICAL COLUMNS & ENCODING"
      ],
      "id": "u3ddX5Z4MNjw"
    },
    {
      "cell_type": "code",
      "execution_count": 29,
      "id": "a7123fed",
      "metadata": {
        "id": "a7123fed"
      },
      "outputs": [],
      "source": [
        "from sklearn.preprocessing import LabelEncoder"
      ]
    },
    {
      "cell_type": "code",
      "execution_count": 30,
      "id": "6a8b5b6e",
      "metadata": {
        "id": "6a8b5b6e"
      },
      "outputs": [],
      "source": [
        "l_encod=LabelEncoder()\n",
        "df.Sex=l_encod.fit_transform(df.Sex)"
      ]
    },
    {
      "cell_type": "markdown",
      "metadata": {
        "id": "sAVBD2VAMTkg"
      },
      "source": [
        "#### DATA SPLITTING (Dependent & Independent Variables)"
      ],
      "id": "sAVBD2VAMTkg"
    },
    {
      "cell_type": "code",
      "execution_count": 31,
      "id": "5129ba14",
      "metadata": {
        "scrolled": true,
        "id": "5129ba14"
      },
      "outputs": [],
      "source": [
        "x=df.iloc[:,:-1].values"
      ]
    },
    {
      "cell_type": "code",
      "execution_count": 32,
      "id": "ed20bdf4",
      "metadata": {
        "id": "ed20bdf4"
      },
      "outputs": [],
      "source": [
        "y=df.iloc[:,-1].values"
      ]
    },
    {
      "cell_type": "markdown",
      "metadata": {
        "id": "JSKCDvKSMcQq"
      },
      "source": [
        "#### INDEPENDENT VARIABLES SCALING"
      ],
      "id": "JSKCDvKSMcQq"
    },
    {
      "cell_type": "code",
      "execution_count": 33,
      "id": "5ea12c36",
      "metadata": {
        "id": "5ea12c36"
      },
      "outputs": [],
      "source": [
        "from sklearn.preprocessing import scale"
      ]
    },
    {
      "cell_type": "code",
      "execution_count": 34,
      "id": "4ff10d57",
      "metadata": {
        "id": "4ff10d57"
      },
      "outputs": [],
      "source": [
        "x=scale(x)"
      ]
    },
    {
      "cell_type": "code",
      "execution_count": 35,
      "id": "5592e81f",
      "metadata": {
        "colab": {
          "base_uri": "https://localhost:8080/"
        },
        "id": "5592e81f",
        "outputId": "ff5ab658-be86-4165-a474-7e2bdf6bc247"
      },
      "outputs": [
        {
          "output_type": "stream",
          "name": "stdout",
          "text": [
            "3.474463820421366e-16 0.9354143466934853\n"
          ]
        }
      ],
      "source": [
        "print(x.mean(),x.std())"
      ]
    },
    {
      "cell_type": "markdown",
      "metadata": {
        "id": "rETSoY0eMcQr"
      },
      "source": [
        "#### DATA SPLITTING (Training & Testing)"
      ],
      "id": "rETSoY0eMcQr"
    },
    {
      "cell_type": "code",
      "execution_count": 36,
      "id": "c293df90",
      "metadata": {
        "id": "c293df90"
      },
      "outputs": [],
      "source": [
        "from sklearn.model_selection import train_test_split"
      ]
    },
    {
      "cell_type": "code",
      "execution_count": 37,
      "id": "5df4047e",
      "metadata": {
        "colab": {
          "base_uri": "https://localhost:8080/"
        },
        "id": "5df4047e",
        "outputId": "6e062713-6ffe-4c61-dee0-88bea0d8825b"
      },
      "outputs": [
        {
          "output_type": "stream",
          "name": "stdout",
          "text": [
            "(3341, 8) (3341,)\n"
          ]
        }
      ],
      "source": [
        "x_train,x_test,y_train,y_test=train_test_split(x,y,test_size=0.2)\n",
        "print(x_train.shape,y_train.shape)"
      ]
    },
    {
      "cell_type": "code",
      "execution_count": 38,
      "id": "8d0a8e44",
      "metadata": {
        "colab": {
          "base_uri": "https://localhost:8080/"
        },
        "id": "8d0a8e44",
        "outputId": "b44b3d0c-81cb-435d-b59e-331fef7939e4"
      },
      "outputs": [
        {
          "output_type": "stream",
          "name": "stdout",
          "text": [
            "(836, 8) (836,)\n"
          ]
        }
      ],
      "source": [
        "print(x_test.shape,y_test.shape)"
      ]
    },
    {
      "cell_type": "markdown",
      "metadata": {
        "id": "uttnRt32McQr"
      },
      "source": [
        "#### MODEL BUILDING"
      ],
      "id": "uttnRt32McQr"
    },
    {
      "cell_type": "code",
      "execution_count": 39,
      "id": "0f78fdf1",
      "metadata": {
        "id": "0f78fdf1"
      },
      "outputs": [],
      "source": [
        "from sklearn.linear_model import LinearRegression"
      ]
    },
    {
      "cell_type": "code",
      "execution_count": 40,
      "id": "6570ecce",
      "metadata": {
        "colab": {
          "base_uri": "https://localhost:8080/"
        },
        "id": "6570ecce",
        "outputId": "a4524f04-f437-4090-ca8d-dc72df493089"
      },
      "outputs": [
        {
          "output_type": "execute_result",
          "data": {
            "text/plain": [
              "LinearRegression()"
            ]
          },
          "metadata": {},
          "execution_count": 40
        }
      ],
      "source": [
        "l_r=LinearRegression()\n",
        "l_r.fit(x_train,y_train)"
      ]
    },
    {
      "cell_type": "markdown",
      "metadata": {
        "id": "WCboAVpCMcQr"
      },
      "source": [
        "#### MODEL TRAINING"
      ],
      "id": "WCboAVpCMcQr"
    },
    {
      "cell_type": "code",
      "execution_count": 41,
      "id": "33610878",
      "metadata": {
        "id": "33610878"
      },
      "outputs": [],
      "source": [
        "y_pred_train=l_r.predict(x_train)"
      ]
    },
    {
      "cell_type": "code",
      "execution_count": 42,
      "id": "d4597546",
      "metadata": {
        "colab": {
          "base_uri": "https://localhost:8080/"
        },
        "id": "d4597546",
        "outputId": "c70b43fe-0d83-4fe0-d44c-3a87ba00356b"
      },
      "outputs": [
        {
          "output_type": "execute_result",
          "data": {
            "text/plain": [
              "array([12.06619056, 12.09059327,  8.4642045 , ..., 10.86350213,\n",
              "        9.32158736, 11.43614232])"
            ]
          },
          "metadata": {},
          "execution_count": 42
        }
      ],
      "source": [
        "y_pred_train"
      ]
    },
    {
      "cell_type": "markdown",
      "metadata": {
        "id": "i135SiqsMcQr"
      },
      "source": [
        "#### MODEL TESTING"
      ],
      "id": "i135SiqsMcQr"
    },
    {
      "cell_type": "code",
      "execution_count": 43,
      "id": "bcdb6d5a",
      "metadata": {
        "colab": {
          "base_uri": "https://localhost:8080/"
        },
        "id": "bcdb6d5a",
        "outputId": "216abab7-84f9-4e21-b5c1-8e1b344e5402"
      },
      "outputs": [
        {
          "output_type": "execute_result",
          "data": {
            "text/plain": [
              "array([10.5632743 , 12.25750692, 12.36496954, 10.35884075, 10.25913764,\n",
              "        9.26082337, 12.41356029,  8.77162166, 11.63905365,  9.42070445,\n",
              "       12.47425488,  9.26826529, 11.73142124, 14.50162981, 14.01072232,\n",
              "        8.68360418, 12.16357601,  9.33606506, 12.09050287, 10.60302817,\n",
              "       11.84193591, 12.76357073,  8.73389853, 10.35933672, 10.61096965,\n",
              "       12.63252617, 12.65889255, 11.18786686, 11.16189545, 11.26432962,\n",
              "        9.83349247, 10.72682395, 11.71175098, 10.35399146, 10.96346979,\n",
              "       12.91552161,  9.20094776, 11.6292451 , 11.03346855, 10.84182094,\n",
              "       11.14562004,  9.69738709,  9.87546807,  9.44647293,  8.88695713,\n",
              "       11.91278535,  8.89428263, 10.31521415, 11.80778865, 11.77628289,\n",
              "       11.71387114, 13.10202681, 11.95653325, 11.51305526, 10.3138462 ,\n",
              "       11.88831187, 10.93175157, 10.59534631, 12.55729748, 10.40293621,\n",
              "       10.11548978, 11.45463863, 10.38241716, 11.09402382, 13.26893924,\n",
              "       13.18971017, 12.61082202, 11.99469122, 10.19764871, 13.41622344,\n",
              "       10.48196803, 12.05407266, 11.47822221, 12.6081015 , 11.65121787,\n",
              "       11.75782988, 12.31450179,  8.91065676, 10.23096224, 10.0024266 ,\n",
              "       10.98803211, 12.28722048, 12.77661372, 11.61708759, 11.93319857,\n",
              "       11.22990698,  9.11037512, 11.61552979, 10.23053256,  9.79406964,\n",
              "       11.73955262, 11.50766733, 10.90022601, 10.70450164, 12.65382271,\n",
              "       12.13006971, 10.05451525, 11.93584884, 12.53050736, 11.89919217,\n",
              "       11.31311483, 10.43768114,  8.52882695, 10.6124164 , 12.81803368,\n",
              "       11.74499836,  9.96199469, 11.15162562,  9.81598298, 11.56736355,\n",
              "       10.81030274, 12.13803846, 12.30388366,  9.69176807, 11.31401933,\n",
              "       12.41848565, 10.53322441,  8.72067832, 13.21312263,  9.03950797,\n",
              "        9.55732368,  9.89097212,  9.42247075, 12.05155927, 12.68773563,\n",
              "       11.38826696, 10.10083247, 12.07799558, 12.12171583,  8.80289756,\n",
              "       10.88200448, 11.83559342, 11.00601799, 12.41820244,  9.4801635 ,\n",
              "        9.8210697 , 13.73101334, 12.46828919,  9.08448838, 11.15162562,\n",
              "       10.84826225,  9.33691362,  8.63651851,  8.77627602,  9.30879503,\n",
              "       12.17974338, 12.14151724, 11.16242167, 11.62837582, 11.44821283,\n",
              "       11.48055595, 12.19632169, 10.18804391, 13.24071862, 12.6240756 ,\n",
              "       11.120697  , 11.27304303, 11.87499062, 10.51880485, 12.16906809,\n",
              "        9.2519686 , 11.0048565 , 10.97635508, 13.30702793, 13.87170083,\n",
              "       13.76933128, 10.65728347, 12.97701299, 11.36505925,  9.31001144,\n",
              "       12.22519235, 12.66541486, 11.98724301, 10.01956053,  9.43656618,\n",
              "       10.03640762,  9.90800024, 10.19672748, 10.9922404 , 10.38079263,\n",
              "       10.46096023, 11.39813377, 12.62204865, 10.44561075, 11.77263611,\n",
              "       14.53554055,  9.73481637, 12.11188799,  8.60232811,  8.59605577,\n",
              "       11.20720739,  8.68504097, 11.82703142, 12.27122527, 13.5575793 ,\n",
              "       10.90931653,  8.81617759, 11.24541551, 11.80394444, 11.84666845,\n",
              "       11.70512632, 11.66979518, 10.10618768, 11.87595948, 11.20212198,\n",
              "       10.36831675,  8.80154797, 10.63859773, 10.53354447,  9.33861756,\n",
              "       11.98222409,  9.97726938, 11.15146728,  9.20200593, 12.56006215,\n",
              "        9.71879369, 13.48758321, 11.00687096,  8.60350866, 10.98985546,\n",
              "       11.12591262, 10.11841029, 11.6045695 , 10.2133738 , 10.47107559,\n",
              "       10.25266683, 10.34429778, 10.02748896, 10.61244502,  9.3010147 ,\n",
              "       11.67763743, 10.3144534 , 12.93902515, 12.47248483, 11.34818287,\n",
              "        9.98594328, 11.25749415, 11.54435726,  9.8735195 , 11.7935145 ,\n",
              "       11.15162562,  9.4557927 , 10.78597609, 12.03266889, 10.82633959,\n",
              "       10.2257127 ,  8.65666277, 10.80835669, 11.24098803, 11.34413667,\n",
              "       11.28319836, 12.6544422 , 11.78129538, 13.05650065, 11.15643639,\n",
              "        9.80860103, 11.95132462, 11.66711553,  8.37435347, 12.31757508,\n",
              "        9.34047804, 11.51617981, 12.59454244, 12.6780025 ,  9.93025835,\n",
              "       10.6827884 , 10.74377971, 11.62823292, 11.09231231, 11.14968071,\n",
              "        9.91310436, 10.63925901,  9.25785222, 11.15162562, 12.83323983,\n",
              "       11.54851659, 10.94701399, 11.62045154, 11.37437813, 11.8757598 ,\n",
              "        8.62885352, 11.36926726, 11.94151184, 10.86999197, 11.15162562,\n",
              "       11.61248371, 12.69682801, 11.18817809, 13.19152435, 10.72672875,\n",
              "        9.95717419, 10.31069472,  9.9915589 ,  8.61532801,  9.89926684,\n",
              "       12.10573859, 12.44671558, 13.14082148,  9.07863437, 10.75230463,\n",
              "       11.32446088, 10.35271352, 11.80843143, 11.72389502, 10.14765978,\n",
              "       12.06320632, 11.48998258, 11.87323706, 12.7369065 ,  8.6774909 ,\n",
              "       12.02870702,  8.49907954,  9.57387561, 12.05014192, 11.7476348 ,\n",
              "       10.40837438, 10.5770842 ,  9.95386419, 11.59171299, 11.24769543,\n",
              "       12.59271825, 11.35032598, 11.7607563 ,  8.97304487, 12.53462185,\n",
              "       12.0428843 , 11.36688901, 13.25414627, 10.65291007, 12.46967491,\n",
              "       12.33597838, 10.50780851, 11.75824319,  9.44865949,  9.89945341,\n",
              "       13.20659174, 12.12130897,  9.9798167 , 10.58822358, 10.20924517,\n",
              "       10.43049469,  9.19858089, 11.24866688,  9.19814985, 10.76856409,\n",
              "       10.91721497,  9.92003408, 11.5075426 , 10.99872378, 10.38336064,\n",
              "       11.13548676, 11.41286752, 12.26556907, 10.42332158, 11.63698504,\n",
              "        8.58668932,  9.97724435, 11.92121725,  9.97041786, 10.57665869,\n",
              "       10.52516115, 12.14576139,  9.29201025, 12.05613421, 12.80229563,\n",
              "       11.65703342, 11.14890666, 14.59287412,  9.93712295, 11.40355339,\n",
              "       12.05696071, 12.51177283,  9.84104618,  9.90877208, 12.1527009 ,\n",
              "        9.28668679,  9.27438332, 10.57279318, 11.43727162, 11.60024852,\n",
              "       12.20771103,  9.94104121, 12.0856783 , 12.25890252,  8.3309364 ,\n",
              "        9.77242157, 12.04630127, 11.82093293, 10.12501394, 10.94605186,\n",
              "        8.4265239 , 11.19445156, 10.22033976,  9.98480577,  9.71976673,\n",
              "       10.56671377, 11.68274593, 11.98295418, 13.44383395,  9.94088732,\n",
              "        8.51279727, 10.43660754, 11.13762215, 12.08784119, 10.09071212,\n",
              "       10.55241627, 10.49770553, 12.20253833, 13.49410275, 11.86913728,\n",
              "       10.33590167, 12.18847396,  9.36151507,  9.44259003,  8.57207412,\n",
              "       11.54110359, 10.02054469, 10.40328658, 10.32302729, 11.27141988,\n",
              "        9.04909625,  9.87422306,  9.3641277 , 11.13762215, 10.14587787,\n",
              "       11.60877852, 10.72521201, 11.51729218, 11.77033542, 10.72927314,\n",
              "       12.65557434, 10.11011636,  8.49961736,  9.06869069, 12.0889804 ,\n",
              "        9.84736161, 10.13776502, 13.08367628,  8.47344286, 10.6291827 ,\n",
              "       11.4868765 ,  8.74810133, 10.22260223, 12.12506393,  8.84639284,\n",
              "       14.50891409, 10.38487321, 13.55106975, 10.1481994 , 10.77199111,\n",
              "        9.71687051, 11.03179311, 10.09683206, 12.50847584,  8.33051813,\n",
              "        9.35946401, 12.4001194 , 10.87072891, 11.21763733, 11.92039177,\n",
              "       10.0910458 , 12.51400644, 10.11159641, 13.28274527, 11.20732505,\n",
              "        8.84066099, 12.33315737, 10.38589679, 12.07638079,  9.95683355,\n",
              "       12.31854584, 12.41196481,  9.95034588,  9.04012209, 11.4496402 ,\n",
              "        9.89947835,  8.48343532, 11.58996745, 11.28347236, 11.15162562,\n",
              "       11.22949882, 10.78729546, 11.6218251 , 11.63116143, 12.23097142,\n",
              "       12.56296856, 10.15165932,  9.21510261,  9.42555872, 10.07967219,\n",
              "       11.86792709,  9.01121686,  9.28314914, 11.97264458, 10.2936277 ,\n",
              "       11.27914569,  8.5023924 , 11.70958074,  9.15048993, 10.26981383,\n",
              "        9.90060785, 11.66606398, 13.59446076, 10.2579362 , 12.42108751,\n",
              "        9.60621416, 10.90157054, 10.59746821, 11.86380423, 10.48054488,\n",
              "       11.82085879, 12.19409536, 11.28871392,  9.14247802, 10.78259156,\n",
              "        9.45305979, 11.98418586, 10.14190525, 11.76977587,  9.96060376,\n",
              "       11.21904972, 12.0151655 , 12.22193765, 10.28713295, 10.11155784,\n",
              "       11.98301189, 10.28946905, 10.47358623, 12.07567574, 11.85487405,\n",
              "       11.90773052, 10.01878234, 11.42749169, 11.57409022, 11.50605956,\n",
              "       10.64375588, 11.35109887, 11.33763381, 10.94102852,  9.28065678,\n",
              "        8.79770087, 11.99517072,  9.84407488, 11.74034327, 11.92892451,\n",
              "       14.13548055, 10.69395335,  8.46987302, 11.66830251,  9.88866055,\n",
              "       10.48706959, 10.14430266, 10.77615864,  8.49356325, 11.78606189,\n",
              "       12.9696794 , 10.74316502, 12.6511024 , 10.26093063, 11.17759974,\n",
              "        9.69591353, 10.10376741, 11.13699013, 11.12454842,  9.94512952,\n",
              "        8.38955914, 11.98905736,  8.5203712 ,  9.90598579, 11.83861157,\n",
              "        7.59457919, 10.60242676, 12.62982946, 13.2159579 , 12.9476393 ,\n",
              "       11.42444883, 12.03712782, 11.12286836, 11.92351261,  8.82506954,\n",
              "        9.87433386, 13.18419774,  8.50495155, 12.19235944, 10.31148181,\n",
              "       11.18753138, 12.17896511,  9.42792064, 12.29007416, 10.0915659 ,\n",
              "       11.67050592, 11.54312019, 12.09768819, 10.05243611, 11.77302767,\n",
              "       12.29066612, 11.67174904, 11.38028839, 11.65278723, 12.05175855,\n",
              "       11.802323  , 14.27535379, 11.1619204 , 12.35553666,  8.43531705,\n",
              "       12.00068792, 11.448604  ,  9.82701048, 10.86870907, 10.43079303,\n",
              "        8.37158111, 11.04120528, 12.33851227, 10.96986794,  8.48401013,\n",
              "       11.78480063, 10.63112613, 12.0191206 , 11.85332704, 12.62152356,\n",
              "        8.37031931, 11.34724108, 11.06700916, 12.33328282, 11.37412154,\n",
              "       12.17164911,  8.33602887, 13.22473162, 12.7519284 , 11.55403897,\n",
              "       13.15721231, 10.02705293,  9.94244535,  9.4621966 , 11.15162562,\n",
              "       11.21390813,  9.43643574, 10.0975781 , 11.02139088, 10.29431165,\n",
              "       10.60071573, 11.15162562, 10.42964499, 11.20891224, 11.24258476,\n",
              "       11.21494946, 12.81706996, 10.67770562, 11.13762215,  9.89112971,\n",
              "       14.00368487, 10.71308232,  9.07907124, 10.78971826, 10.82151555,\n",
              "       11.13244002, 11.24766709, 10.16991123, 12.7980554 ,  9.32020333,\n",
              "        8.66285111, 11.51667457, 10.32066109, 11.58346329,  9.4645785 ,\n",
              "       12.18430118, 10.83080649, 11.33474227, 10.23973882, 11.54109135,\n",
              "        9.98468659,  9.74105766, 12.02431523, 10.76044257,  8.55215559,\n",
              "       11.71887306, 12.09903438, 11.46642348, 11.39244376, 13.11062455,\n",
              "       12.47925632, 10.90157309, 12.55667951,  9.77846946, 12.42346902,\n",
              "       10.73748945, 11.10968495,  8.76912819, 14.16386421, 13.08457086,\n",
              "       10.02336763, 11.85427427, 11.76308175, 12.97428088, 10.16732403,\n",
              "        8.35211869, 10.33738038, 11.17799692,  8.69779725, 12.24783556,\n",
              "       12.18303497, 10.45528016,  8.35215384, 10.55188833, 11.92657766,\n",
              "       11.54380185,  9.70503225, 11.34145915, 10.04338139, 12.87768387,\n",
              "        9.8491306 , 12.45246242,  9.86175392, 11.52630097,  9.94806274,\n",
              "       11.85143621, 12.45466487,  9.37162976, 12.36641492, 11.83179148,\n",
              "        9.85365559, 12.05092245, 11.89286617, 12.04073983, 10.62132964,\n",
              "       11.1341502 , 14.12005789, 10.9012298 , 12.52819014, 12.03411048,\n",
              "        9.3729147 ,  8.71913847,  8.80314326, 10.72869783, 11.9156355 ,\n",
              "       11.83122545, 10.93457404,  9.88111125, 11.51950761, 11.47870947,\n",
              "       13.19959874, 12.66946147, 13.23873953,  9.20663197,  9.87162629,\n",
              "       11.39154284, 10.14751012, 10.2771332 ,  9.93639689,  8.75692258,\n",
              "        9.29592179,  8.61313749, 12.37889089,  8.70176892, 10.64257552,\n",
              "       10.41081144, 11.07822372, 10.00205421, 12.49948196, 11.39339345,\n",
              "       12.36697496,  8.66769677, 12.13688281, 11.17379578, 10.74259304,\n",
              "        9.82919815, 10.90233068,  9.55387132, 13.11554194,  9.31301324,\n",
              "       11.71467385, 11.51796309, 11.40536842, 11.80992074, 10.83510496,\n",
              "       10.13768278, 14.73763358,  9.97807121, 11.85834807, 13.99091222,\n",
              "       11.50833911, 12.04650985,  9.75419416, 10.86260133, 11.88914482,\n",
              "       11.37927299, 10.99100572,  9.99732811,  9.21008368, 12.37947459,\n",
              "       14.70054725, 11.55746086,  8.90265327, 11.70373622,  9.9031435 ,\n",
              "        9.40493801,  9.83415403,  9.38579661, 12.18685987, 11.63537359,\n",
              "       12.209274  , 10.98974676,  9.21216033,  9.18160765, 14.37409168,\n",
              "       10.48696258, 11.61456763,  9.86661072, 14.48885717, 11.76858085,\n",
              "       11.69237777, 11.55227484, 11.39456179, 11.75208778,  9.15735978,\n",
              "       12.47210732,  9.93261831, 11.0784383 , 10.84730017,  8.77483545,\n",
              "       11.70636914,  9.05501322, 12.0667565 ,  8.49760492, 10.56060441,\n",
              "       10.40474427, 10.30985269, 12.04921422, 13.07372664, 11.83940513,\n",
              "       12.58754719, 12.3361119 , 10.24145504, 11.35192158, 13.13322318,\n",
              "        8.60091004])"
            ]
          },
          "metadata": {},
          "execution_count": 43
        }
      ],
      "source": [
        "y_pred_test=l_r.predict(x_test)\n",
        "y_pred_test"
      ]
    },
    {
      "cell_type": "code",
      "execution_count": 48,
      "id": "a7eeb8aa",
      "metadata": {
        "colab": {
          "base_uri": "https://localhost:8080/"
        },
        "id": "a7eeb8aa",
        "outputId": "f62dfe04-6cef-498d-b44e-af224d43958a"
      },
      "outputs": [
        {
          "output_type": "execute_result",
          "data": {
            "text/plain": [
              "array([10.98499493])"
            ]
          },
          "metadata": {},
          "execution_count": 48
        }
      ],
      "source": [
        "l_r.predict([[1.8,0.7,0.1,0.4,0.2,0.3,0.15,0.15]])"
      ]
    },
    {
      "cell_type": "markdown",
      "metadata": {
        "id": "Jaq8RTc2McQs"
      },
      "source": [
        "#### PERFORMANCE METRICS"
      ],
      "id": "Jaq8RTc2McQs"
    },
    {
      "cell_type": "code",
      "execution_count": 45,
      "id": "65296569",
      "metadata": {
        "id": "65296569"
      },
      "outputs": [],
      "source": [
        "from sklearn import metrics"
      ]
    },
    {
      "cell_type": "code",
      "execution_count": 49,
      "id": "f90fe933",
      "metadata": {
        "colab": {
          "base_uri": "https://localhost:8080/"
        },
        "id": "f90fe933",
        "outputId": "04537f9e-4a71-4b3b-e9fc-24ea38077cfe"
      },
      "outputs": [
        {
          "output_type": "execute_result",
          "data": {
            "text/plain": [
              "0.37411741496083584"
            ]
          },
          "metadata": {},
          "execution_count": 49
        }
      ],
      "source": [
        "r2_score=metrics.r2_score(y_test,y_pred_test)\n",
        "r2_score"
      ]
    },
    {
      "cell_type": "code",
      "execution_count": 50,
      "id": "56637d34",
      "metadata": {
        "colab": {
          "base_uri": "https://localhost:8080/"
        },
        "id": "56637d34",
        "outputId": "38ed20a2-d0ea-49bf-a2dd-06b3abb48238"
      },
      "outputs": [
        {
          "output_type": "execute_result",
          "data": {
            "text/plain": [
              "1.8224026142849228"
            ]
          },
          "metadata": {},
          "execution_count": 50
        }
      ],
      "source": [
        "err=np.sqrt(metrics.mean_squared_error(y_test,y_pred_test))\n",
        "err"
      ]
    }
  ],
  "metadata": {
    "kernelspec": {
      "display_name": "Python 3 (ipykernel)",
      "language": "python",
      "name": "python3"
    },
    "language_info": {
      "codemirror_mode": {
        "name": "ipython",
        "version": 3
      },
      "file_extension": ".py",
      "mimetype": "text/x-python",
      "name": "python",
      "nbconvert_exporter": "python",
      "pygments_lexer": "ipython3",
      "version": "3.10.4"
    },
    "colab": {
      "provenance": [],
      "collapsed_sections": []
    }
  },
  "nbformat": 4,
  "nbformat_minor": 5
}